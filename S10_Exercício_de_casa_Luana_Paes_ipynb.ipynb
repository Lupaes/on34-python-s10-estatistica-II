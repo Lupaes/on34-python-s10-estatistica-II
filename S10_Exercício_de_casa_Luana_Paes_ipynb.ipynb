{
  "nbformat": 4,
  "nbformat_minor": 0,
  "metadata": {
    "colab": {
      "provenance": [],
      "authorship_tag": "ABX9TyMysm83AI7P3UrbysNthA1U",
      "include_colab_link": true
    },
    "kernelspec": {
      "name": "python3",
      "display_name": "Python 3"
    },
    "language_info": {
      "name": "python"
    }
  },
  "cells": [
    {
      "cell_type": "markdown",
      "metadata": {
        "id": "view-in-github",
        "colab_type": "text"
      },
      "source": [
        "<a href=\"https://colab.research.google.com/github/Lupaes/on34-python-s10-estatistica-II/blob/main/S10_Exerc%C3%ADcio_de_casa_Luana_Paes_ipynb.ipynb\" target=\"_parent\"><img src=\"https://colab.research.google.com/assets/colab-badge.svg\" alt=\"Open In Colab\"/></a>"
      ]
    },
    {
      "cell_type": "code",
      "execution_count": null,
      "metadata": {
        "id": "BPRmQ2aSEYZD"
      },
      "outputs": [],
      "source": []
    },
    {
      "cell_type": "markdown",
      "source": [
        "Exercício 1:\n",
        "Um nutricionista quer testar se a ingestão diária média de calorias de um grupo de 30 pessoas é diferente de 2000 calorias. Os dados das calorias ingeridas são fornecidos abaixo. Realize o teste de hipóteses usando um nível de significância de 0,05.\n",
        "\n",
        "Dados: [1900, 2100, 2050, 1980, 1950, 2100, 2000, 2150, 2200, 1850, 1990, 1950, 2050, 2080, 2100, 1900, 1950, 2050, 2150, 2000, 2200, 1900, 2100, 2000, 2150, 1850, 1990, 1950, 2050, 2080]"
      ],
      "metadata": {
        "id": "TqtEuANHEops"
      }
    },
    {
      "cell_type": "code",
      "source": [
        "!pip install statsmodels"
      ],
      "metadata": {
        "id": "vWRnNehxSbd7"
      },
      "execution_count": null,
      "outputs": []
    },
    {
      "cell_type": "code",
      "source": [
        "#Resolução 1\n",
        "##teste t student - compara as medias\n",
        "import random\n",
        "import math\n",
        "from scipy.stats import ttest_1samp\n",
        "\n",
        "#dados\n",
        "dados = [1900, 2100, 2050, 1980, 1950, 2100, 2000, 2150, 2200, 1850, 1990, 1950, 2050, 2080, 2100, 1900, 1950, 2050, 2150, 2000, 2200, 1900, 2100, 2000, 2150, 1850, 1990, 1950, 2050, 2080]\n",
        "\n",
        "#teste de hipotese\n",
        "#HO : ingestão média diária de calorias é igual a 2000\n",
        "#H1 : ingestão média diária de calorias é diferente 2000\n",
        "#ns(nivel de significancia): 0,05\n",
        "\n",
        "t_estatistico, p_valor = ttest_1samp(dados,2000)\n",
        "print(f\"Estatisca é: {t_estatistico}\")\n",
        "print(f\"O valor de p é: {p_valor:.2f}\")\n",
        "\n",
        "# Teste\n",
        "ns = 0.05\n",
        "if p_valor < ns:\n",
        "    print(\"Rejeita a hipótese nula (H0), pois há uma evidência significativa para afirmar que a ingestão diária média de calorias do grupo é igual a 2000 calorias.\")\n",
        "else:\n",
        "    print(\"Não rejeita a hipótese nula (H0), pois nã há evidências suficientes para afirmar que a ingestão diária média de calorias do grupo é diferente de 2000 calorias.\")\n"
      ],
      "metadata": {
        "colab": {
          "base_uri": "https://localhost:8080/"
        },
        "id": "xRVlBA4YFQTr",
        "outputId": "1f971ca2-747e-429a-ce68-15ce23362a9e"
      },
      "execution_count": 4,
      "outputs": [
        {
          "output_type": "stream",
          "name": "stdout",
          "text": [
            "Estatisca é: 1.440678442696004\n",
            "O valor de p é: 0.16\n",
            "Não rejeita a hipótese nula (H0), pois não há evidências suficientes para afirmar que a ingestão diária média de calorias do grupo é diferente de 2000 calorias.\n"
          ]
        }
      ]
    },
    {
      "cell_type": "markdown",
      "source": [
        "Exercício 2:\n",
        "Um pesquisador deseja verificar se há uma diferença significativa entre as notas de alunos de duas turmas diferentes após um novo método de ensino. As notas das duas turmas são:\n",
        "\n",
        "Turma A: [85, 78, 90, 88, 76, 95, 89, 84] Turma B: [82, 75, 85, 80, 79, 88, 83, 77]\n",
        "\n",
        "Realize o teste de hipóteses para comparar as médias das duas turmas usando um nível de significância de 0,05."
      ],
      "metadata": {
        "id": "hsCqvyl7Eq_E"
      }
    },
    {
      "cell_type": "code",
      "source": [
        "#Resolução 2\n",
        "##teste t student - compara as medias\n",
        "import random\n",
        "import math\n",
        "from scipy.stats import ttest_ind\n",
        "#duas amostras independentes\n",
        "#dados\n",
        "turmaA = [85, 78, 90, 88, 76, 95, 89, 84]\n",
        "turmaB = [82, 75, 85, 80, 79, 88, 83, 77]\n",
        "\n",
        "#teste de hipotese\n",
        "#HO : a média da turma A igual a média da turma B\n",
        "#H1 :  a média da turma A diferente da média da turma B\n",
        "#ns(nivel de significancia): 0,05\n",
        "\n",
        "t_estatistico, p_valor = ttest_ind(turmaA,turmaB)\n",
        "print(f\"Estatisca é: {t_estatistico}\")\n",
        "print(f\"O valor de p é: {p_valor:.2f}\")\n",
        "\n",
        "# Teste\n",
        "ns = 0.05\n",
        "if p_valor < ns:\n",
        "    print(\"Rejeita a hipótese nula (H0), pois uma diferença significativa entre a média das notas das duas turmas.\")\n",
        "else:\n",
        "    print(\"Não rejeita a hipótese nula (H0), pois não há diferença significativa entre a média das notas das duas turmas.\")\n"
      ],
      "metadata": {
        "colab": {
          "base_uri": "https://localhost:8080/"
        },
        "id": "OAAG0SztcTCz",
        "outputId": "85091f52-ed92-45be-84e6-44c3d3690131"
      },
      "execution_count": 8,
      "outputs": [
        {
          "output_type": "stream",
          "name": "stdout",
          "text": [
            "Estatisca é: 1.6738367490980877\n",
            "O valor de p é: 0.12\n",
            "Não rejeita a hipótese nula (H0), pois não há diferença significativa entre a média das notas das duas turmas.\n"
          ]
        }
      ]
    },
    {
      "cell_type": "markdown",
      "source": [
        "Exercício 3:\n",
        "Uma empresa testou a eficácia de um novo software em dois períodos de tempo. Os tempos (em minutos) para concluir uma tarefa antes e depois do uso do software são registrados abaixo. Determine se houve uma melhoria significativa no tempo de conclusão da tarefa.\n",
        "\n",
        "Antes: [30, 28, 35, 33, 40, 29, 32, 36] Depois: [25, 22, 30, 28, 35, 27, 30, 31]"
      ],
      "metadata": {
        "id": "RZDi9XcKEvnQ"
      }
    },
    {
      "cell_type": "code",
      "source": [
        "#Resolução 3\n",
        "##teste t student - compara as medias\n",
        "import random\n",
        "import math\n",
        "from scipy.stats import ttest_rel\n",
        "#amostra pareada\n",
        "#dados\n",
        "antes = [30, 28, 35, 33, 40, 29, 32, 36]\n",
        "depois = [25, 22, 30, 28, 35, 27, 30, 31]\n",
        "\n",
        "#teste de hipotese\n",
        "#HO : Não há diferença significativa nos tempos de conclusão antes e depois do uso do software\n",
        "#H1 : Há uma diferença significativa nos tempos de conclusão antes e depois do uso do software\n",
        "#ns(nivel de significancia): 0,05\n",
        "\n",
        "t_estatistico, p_valor = ttest_rel(antes,depois)\n",
        "print(f\"Estatisca é: {t_estatistico}\")\n",
        "print(f\"O valor de p é: {p_valor:.2f}\")\n",
        "\n",
        "# Teste\n",
        "ns = 0.05\n",
        "if p_valor <= ns:\n",
        "    print(\"Rejeita a hipótese nula (H0), pois houve uma melhoria significativa no tempo de conclusão antes e depois do uso do software da tarefa.\")\n",
        "else:\n",
        "    print(\"Não rejeita a hipótese nula (H0), pois não houve uma melhoria significativa no tempo de conclusão antes e depois do uso do software da tarefa.\")"
      ],
      "metadata": {
        "colab": {
          "base_uri": "https://localhost:8080/"
        },
        "id": "hxRkfknMi8LJ",
        "outputId": "4ad9d71a-4513-48e8-9205-ce5aae2b2f34"
      },
      "execution_count": 1,
      "outputs": [
        {
          "output_type": "stream",
          "name": "stdout",
          "text": [
            "Estatisca é: 8.217036268592837\n",
            "O valor de p é: 0.00\n",
            "Rejeita a hipótese nula (H0), pois houve uma melhoria significativa no tempo de conclusão antes e depois do uso do software da tarefa.\n"
          ]
        }
      ]
    },
    {
      "cell_type": "markdown",
      "source": [
        "Exercício 4:\n",
        "Uma pesquisa foi realizada para verificar a preferência de 100 pessoas por dois tipos de bebidas, A e B, em duas cidades diferentes, X e Y. A tabela de contingência a seguir mostra os resultados:\n",
        "\n",
        "Cidade X Cidade Y Bebida A 30 40 Bebida B 20 10\n",
        "\n",
        "Verifique se há uma relação significativa entre a cidade e a preferência pela bebida.\n"
      ],
      "metadata": {
        "id": "639KuroSE0vX"
      }
    },
    {
      "cell_type": "code",
      "source": [
        "#Resolução 4\n",
        "#teste Qui-Quadrado\n",
        "\n",
        "import numpy as np\n",
        "from scipy.stats import chi2_contingency\n",
        "\n",
        "# dados\n",
        "#linha 1: Bebida A, Cidade X, Cidade Y\n",
        "#linha 2: Bebida B, Cidade X, Cidade Y\n",
        "dados = np.array([[30, 40],[20, 10]])\n",
        "\n",
        "# teste de hipotese\n",
        "# H0: Não há uma relação significativa entre a cidade e a preferência pela bebida\n",
        "# H1: Há uma relação significativa entre a cidade e a preferência pela bebida\n",
        "#ns(nivel de significancia): 0,05\n",
        "\n",
        "estatistica, p_valor, grau_de_liberdade, matriz_frequencia = chi2_contingency(dados)\n",
        "print(f\"A Estatistica é {estatistica}\")\n",
        "print(f\"Valor p é {p_valor:.4f}\")\n",
        "\n",
        "# Teste\n",
        "ns = 0.05\n",
        "if p_valor < ns:\n",
        "    print(\"Rejeita a hipótese nula (H0): Há uma relação significativa entre a cidade e a preferência pela bebida.\")\n",
        "else:\n",
        "    print(\"Não rejeita a hipótese nula (H0): Não há relação significativa entre a cidade e a preferência pela bebida.\")"
      ],
      "metadata": {
        "colab": {
          "base_uri": "https://localhost:8080/"
        },
        "id": "0NB9slQKK_l2",
        "outputId": "0873926f-58b2-4b99-e5fe-b476edd22acf"
      },
      "execution_count": 6,
      "outputs": [
        {
          "output_type": "stream",
          "name": "stdout",
          "text": [
            "A Estatistica é 3.857142857142857\n",
            "Valor p é 0.0495\n",
            "Rejeita a hipótese nula (H0): Há uma relação significativa entre a cidade e a preferência pela bebida.\n"
          ]
        }
      ]
    },
    {
      "cell_type": "markdown",
      "source": [
        "Exercício 5:\n",
        "Um pesquisador deseja testar se três diferentes tipos de fertilizantes têm um efeito significativo no crescimento de plantas. Os crescimentos das plantas (em cm) para cada fertilizante são dados abaixo:\n",
        "\n",
        "Fertilizante A: [20, 22, 19, 21, 20] Fertilizante B: [18, 20, 17, 19, 18] Fertilizante C: [25, 27, 26, 28, 26] Realize uma ANOVA de uma via para verificar se há uma diferença significativa entre os grupos."
      ],
      "metadata": {
        "id": "15xkpMH4E6qL"
      }
    },
    {
      "cell_type": "code",
      "source": [
        "#Resolução 5\n",
        "#teste ANOVA\n",
        "\n",
        "from scipy.stats import f_oneway\n",
        "\n",
        "#dados\n",
        "fertilizanteA = [20, 22, 19, 21, 20]\n",
        "fertilizanteB = [18, 20, 17, 19, 18]\n",
        "fertilizanteC = [25, 27, 26, 28, 26]\n",
        "\n",
        "#teste hipoteses\n",
        "#H0: Não há uma diferença significativa entre os grupos\n",
        "#H1: Há uma diferença significativa entre os grupos\n",
        "#ns(nivel de significancia): 0,05\n",
        "\n",
        "estatistica, p_valor = f_oneway(fertilizanteA, fertilizanteB, fertilizanteC)\n",
        "print(f\"Estatistica é {estatistica:.2f}\")\n",
        "print(f\" o Valor p {p_valor:.8f}\")\n",
        "\n",
        "# Teste\n",
        "ns = 0.05\n",
        "if p_valor < ns:\n",
        "    print(\"Rejeita a hipótese nula (H0): Há uma diferença significativa entre os grupos.\")\n",
        "else:\n",
        "    print(\"Não rejeita a hipótese nula (H0): Não há diferença significativa entre os grupos.\")"
      ],
      "metadata": {
        "colab": {
          "base_uri": "https://localhost:8080/"
        },
        "id": "Q2akc4EKOViF",
        "outputId": "72c24ce4-e000-4ceb-f3f8-042965925e8c"
      },
      "execution_count": 11,
      "outputs": [
        {
          "output_type": "stream",
          "name": "stdout",
          "text": [
            "Estatistica é 66.67\n",
            " o Valor p 0.00000032\n",
            "Rejeita a hipótese nula (H0): Há uma diferença significativa entre os grupos.\n"
          ]
        }
      ]
    },
    {
      "cell_type": "markdown",
      "source": [
        "Extras\n",
        "Exercício 1:\n",
        "Um estudo está sendo realizado para comparar o efeito de três métodos diferentes de estudo na performance dos alunos em um exame. As pontuações dos alunos são registradas para cada método:\n",
        "\n",
        "Método A: [85, 87, 90, 86, 88] Método B: [80, 82, 78, 81, 79] Método C: [92, 91, 93, 89, 94] Use ANOVA de uma via para determinar se existe uma diferença significativa nas pontuações dos alunos entre os três métodos.\n",
        "\n",
        "\n",
        "\n"
      ],
      "metadata": {
        "id": "_2fLYEK4FAe_"
      }
    },
    {
      "cell_type": "code",
      "source": [
        "#Extras Exercício 1\n",
        "#teste ANOVA\n",
        "\n",
        "from scipy.stats import f_oneway\n",
        "\n",
        "#dados\n",
        "metodoA = [85, 87, 90, 86, 88]\n",
        "metodoB = [80, 82, 78, 81, 79]\n",
        "metodoC = [92, 91, 93, 89, 94]\n",
        "\n",
        "#teste hipoteses\n",
        "#H0: Não há uma diferença significativa nas pontuações dos alunos entre os três métodos\n",
        "#H1: Há uma diferença significativa nas pontuações dos alunos entre os três métodos\n",
        "#ns(nivel de significancia): 0,05\n",
        "\n",
        "estatistica, p_valor = f_oneway(metodoA, metodoB, metodoC)\n",
        "print(f\"Estatistica é {estatistica:.2f}\")\n",
        "print(f\" o Valor p {p_valor:.8f}\")\n",
        "\n",
        "# Teste\n",
        "ns = 0.05\n",
        "if p_valor < ns:\n",
        "    print(\"Rejeita a hipótese nula (H0): Há uma diferença significativa entre os métodos.\")\n",
        "else:\n",
        "    print(\"Não rejeita a hipótese nula (H0): Não há diferença significativa entre os métodos.\")"
      ],
      "metadata": {
        "colab": {
          "base_uri": "https://localhost:8080/"
        },
        "id": "1uXLDGY9RbgN",
        "outputId": "619ecf9d-8d4c-4319-a874-d160edc45c22"
      },
      "execution_count": 12,
      "outputs": [
        {
          "output_type": "stream",
          "name": "stdout",
          "text": [
            "Estatistica é 53.60\n",
            " o Valor p 0.00000104\n",
            "Rejeita a hipótese nula (H0): Há uma diferença significativa entre os métodos.\n"
          ]
        }
      ]
    },
    {
      "cell_type": "markdown",
      "source": [
        "Exercício 2:\n",
        "Uma empresa deseja realizar uma pesquisa de satisfação com seus clientes. A população de clientes é dividida em três categorias: Regular, Premium e VIP. A empresa quer garantir que cada categoria seja representada proporcionalmente na amostra. A população total é de 10.000 clientes, sendo 5.000 regulares, 3.000 premium, e 2.000 VIP. Se a amostra total deve ser de 500 clientes, quantos clientes de cada categoria devem ser incluídos na amostra?"
      ],
      "metadata": {
        "id": "Xcm9LjvhUhhV"
      }
    },
    {
      "cell_type": "code",
      "source": [
        "#Extras Exercício 2\n",
        "#import numpy as np\n",
        "import math\n",
        "import random\n",
        "dados = [('regular', 5000), ('premium', 3000), ('vip', 2000)]\n",
        "grupo_a = [item for item in dados if item[0] == 'regular']\n",
        "grupo_b = [item for item in dados if item[0] == 'premium']\n",
        "grupo_c = [item for item in dados if item[0] == 'vip']\n",
        "#amostra_total = 500\n",
        "t_amostra_a = 50\n",
        "t_amostra_b = 20\n",
        "t_amostra_c = 10\n",
        "amostra_a = random.sample(grupo_a, t_amostra_a)\n",
        "print(grupo_a)\n",
        "amostra_b = random.sample(grupo_b, t_amostra_b)\n",
        "print(amostra_b)\n",
        "amostra_c = random.sample(grupo_c, t_amostra_c)\n",
        "print(amostra_c)\n",
        "amostra_estratificada = amostra_a + amostra_b + amostra_c\n",
        "print(amostra_estratificada)"
      ],
      "metadata": {
        "id": "akT0yYBRTDU5"
      },
      "execution_count": null,
      "outputs": []
    },
    {
      "cell_type": "markdown",
      "source": [
        "Exercício 3:\n",
        "Uma empresa registrou o tempo (em horas) que seus funcionários gastam em atividades não relacionadas ao trabalho durante uma semana. Os tempos registrados foram: [1.5, 2.0, 1.0, 2.5, 3.0, 2.0, 1.5, 2.5, 3.5, 4.0]. Calcule o desvio padrão desses tempos."
      ],
      "metadata": {
        "id": "R8QAfXSjUoUO"
      }
    },
    {
      "cell_type": "code",
      "source": [
        "#Extras Exercício 3\n",
        "import math\n",
        "#Dados de exemplo (amostra)\n",
        "dados =  [1.5, 2.0, 1.0, 2.5, 3.0, 2.0, 1.5, 2.5, 3.5, 4.0]\n",
        "\n",
        "n = len(dados)\n",
        "media = sum(dados) / n\n",
        "\n",
        "soma_dos_quadrados = sum((x - media) ** 2 for x in dados)\n",
        "\n",
        "variancia_amostral = soma_dos_quadrados / (n - 1)\n",
        "\n",
        "\n",
        "desvio_padrao_amostral = math.sqrt(variancia_amostral)\n",
        "\n",
        "print(f\"Desvio padrão amostral: {desvio_padrao_amostral:.2f}\")"
      ],
      "metadata": {
        "colab": {
          "base_uri": "https://localhost:8080/"
        },
        "id": "zHEMz34IfmKC",
        "outputId": "97c0d003-b556-409b-b626-00bca0c86192"
      },
      "execution_count": 38,
      "outputs": [
        {
          "output_type": "stream",
          "name": "stdout",
          "text": [
            "Desvio padrão amostral: 0.94\n"
          ]
        }
      ]
    }
  ]
}